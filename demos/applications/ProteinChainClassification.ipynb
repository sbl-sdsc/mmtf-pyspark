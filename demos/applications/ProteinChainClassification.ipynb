{
 "cells": [
  {
   "cell_type": "markdown",
   "metadata": {},
   "source": [
    "# Machine learning - Protein Chain Classification\n",
    "\n",
    "In this demo we try to classify a protein chain as either an all alpha or all beta protein based on protein sequence. We use n-grams and a Word2Vec representation of the protein sequence as a feature vector.\n",
    "\n",
    "[Word2Vec model](https://spark.apache.org/docs/latest/mllib-feature-extraction.html#word2vec)\n",
    "\n",
    "[Word2Vec example](https://spark.apache.org/docs/latest/ml-features.html#word2vec)\n",
    "\n",
    "## Imports"
   ]
  },
  {
   "cell_type": "code",
   "execution_count": 1,
   "metadata": {},
   "outputs": [],
   "source": [
    "from pyspark import SparkConf, SparkContext, SQLContext\n",
    "from pyspark.sql import SparkSession\n",
    "from pyspark.sql.functions import *\n",
    "from pyspark.sql.types import *\n",
    "from mmtfPyspark.io import mmtfReader\n",
    "from mmtfPyspark.webfilters import Pisces\n",
    "from mmtfPyspark.filters import ContainsLProteinChain\n",
    "from mmtfPyspark.mappers import StructureToPolymerChains\n",
    "from mmtfPyspark.datasets import secondaryStructureExtractor\n",
    "from mmtfPyspark.ml import ProteinSequenceEncoder, SparkMultiClassClassifier, datasetBalancer   \n",
    "from pyspark.sql.functions import *\n",
    "from pyspark.ml.classification import DecisionTreeClassifier, LogisticRegression, MultilayerPerceptronClassifier, RandomForestClassifier"
   ]
  },
  {
   "cell_type": "markdown",
   "metadata": {},
   "source": [
    "#### Configure Spark"
   ]
  },
  {
   "cell_type": "code",
   "execution_count": 2,
   "metadata": {},
   "outputs": [],
   "source": [
    "spark = SparkSession.builder.master(\"local[*]\").appName(\"ProteinChainClassification\").getOrCreate()"
   ]
  },
  {
   "cell_type": "markdown",
   "metadata": {},
   "source": [
    "## Read MMTF File and create a non-redundant set (<=40% seq. identity) of L-protein clains"
   ]
  },
  {
   "cell_type": "code",
   "execution_count": 3,
   "metadata": {},
   "outputs": [],
   "source": [
    "pdb = mmtfReader.read_sequence_file('../../resources/mmtf_reduced_sample/') \\\n",
    "                .flatMap(StructureToPolymerChains()) #\\\n",
    "#                 .filter(Pisces(sequenceIdentity=40,resolution=3.0))"
   ]
  },
  {
   "cell_type": "markdown",
   "metadata": {},
   "source": [
    "## Get secondary structure content"
   ]
  },
  {
   "cell_type": "code",
   "execution_count": 4,
   "metadata": {},
   "outputs": [],
   "source": [
    "data = secondaryStructureExtractor.get_dataset(pdb)"
   ]
  },
  {
   "cell_type": "markdown",
   "metadata": {},
   "source": [
    "## Define addProteinFoldType function"
   ]
  },
  {
   "cell_type": "code",
   "execution_count": 5,
   "metadata": {},
   "outputs": [],
   "source": [
    "def add_protein_fold_type(data, minThreshold, maxThreshold):\n",
    "    '''\n",
    "    Adds a column \"foldType\" with three major secondary structure class:\n",
    "    \"alpha\", \"beta\", \"alpha+beta\", and \"other\" based upon the fraction of alpha/beta content.\n",
    "\n",
    "    The simplified syntax used in this method relies on two imports:\n",
    "        from pyspark.sql.functions import when\n",
    "        from pyspark.sql.functions import col\n",
    "\n",
    "    Attributes:\n",
    "        data (Dataset<Row>): input dataset with alpha, beta composition\n",
    "        minThreshold (float): below this threshold, the secondary structure is ignored\n",
    "        maxThreshold (float): above this threshold, the secondary structure is ignored\n",
    "    '''\n",
    "\n",
    "    return data.withColumn(\"foldType\", \\\n",
    "                           when((col(\"alpha\") > maxThreshold) & (col(\"beta\") < minThreshold), \"alpha\"). \\\n",
    "                           when((col(\"beta\") > maxThreshold) & (col(\"alpha\") < minThreshold), \"beta\"). \\\n",
    "                           when((col(\"alpha\") > maxThreshold) & (col(\"beta\") > minThreshold), \"alpha+beta\"). \\\n",
    "                           otherwise(\"other\")\\\n",
    "                           )"
   ]
  },
  {
   "cell_type": "markdown",
   "metadata": {},
   "source": [
    "## Classify chains by secondary structure type"
   ]
  },
  {
   "cell_type": "code",
   "execution_count": 6,
   "metadata": {},
   "outputs": [],
   "source": [
    "data = add_protein_fold_type(data, minThreshold=0.05, maxThreshold=0.15)"
   ]
  },
  {
   "cell_type": "markdown",
   "metadata": {},
   "source": [
    "## Create a Word2Vec representation of the protein sequences\n",
    "\n",
    "**n = 2**     # create 2-grams \n",
    "\n",
    "**windowSize = 25**    # 25-amino residue window size for Word2Vector\n",
    "\n",
    "**vectorSize = 50**    # dimension of feature vector"
   ]
  },
  {
   "cell_type": "code",
   "execution_count": 7,
   "metadata": {},
   "outputs": [
    {
     "data": {
      "text/html": [
       "<div>\n",
       "<style scoped>\n",
       "    .dataframe tbody tr th:only-of-type {\n",
       "        vertical-align: middle;\n",
       "    }\n",
       "\n",
       "    .dataframe tbody tr th {\n",
       "        vertical-align: top;\n",
       "    }\n",
       "\n",
       "    .dataframe thead th {\n",
       "        text-align: right;\n",
       "    }\n",
       "</style>\n",
       "<table border=\"1\" class=\"dataframe\">\n",
       "  <thead>\n",
       "    <tr style=\"text-align: right;\">\n",
       "      <th></th>\n",
       "      <th>structureChainId</th>\n",
       "      <th>sequence</th>\n",
       "      <th>alpha</th>\n",
       "      <th>beta</th>\n",
       "      <th>coil</th>\n",
       "      <th>dsspQ8Code</th>\n",
       "      <th>dsspQ3Code</th>\n",
       "      <th>foldType</th>\n",
       "      <th>ngram</th>\n",
       "      <th>features</th>\n",
       "    </tr>\n",
       "  </thead>\n",
       "  <tbody>\n",
       "    <tr>\n",
       "      <th>0</th>\n",
       "      <td>1LBU.A</td>\n",
       "      <td>DGCYTWSGTLSEGSSGEAVRQLQIRVAGYPGTGAQLAIDGQFGPAT...</td>\n",
       "      <td>0.361502</td>\n",
       "      <td>0.107981</td>\n",
       "      <td>0.530516</td>\n",
       "      <td>CCSCCCCSCBCTTCBSHHHHHHHHHTTTCSCTTCCCCCSSBCCHHH...</td>\n",
       "      <td>CCCCCCCCCECCCCECHHHHHHHHHCCCCCCCCCCCCCCCECCHHH...</td>\n",
       "      <td>alpha+beta</td>\n",
       "      <td>[DG, GC, CY, YT, TW, WS, SG, GT, TL, LS, SE, E...</td>\n",
       "      <td>[0.004772469902165093, -0.26769595273401375, 0...</td>\n",
       "    </tr>\n",
       "    <tr>\n",
       "      <th>1</th>\n",
       "      <td>1LC0.A</td>\n",
       "      <td>MITNSGKFGVVVVGVGRAGSVRLRDLKDPRSAAFLNLIGFVSRREL...</td>\n",
       "      <td>0.410345</td>\n",
       "      <td>0.275862</td>\n",
       "      <td>0.313793</td>\n",
       "      <td>CCCCCCSEEEEEECCSHHHHHHHHHHTSHHHHTTEEEEEEECSSCC...</td>\n",
       "      <td>CCCCCCCEEEEEECCCHHHHHHHHHHCCHHHHCCEEEEEEECCCCC...</td>\n",
       "      <td>alpha+beta</td>\n",
       "      <td>[MI, IT, TN, NS, SG, GK, KF, FG, GV, VV, VV, V...</td>\n",
       "      <td>[-0.07511192831010542, -0.3225324001646388, -0...</td>\n",
       "    </tr>\n",
       "    <tr>\n",
       "      <th>2</th>\n",
       "      <td>1LC5.A</td>\n",
       "      <td>MALFNTAHGGNIREPATVLGISPDQLLDFSANINPLGMPVSVKRAL...</td>\n",
       "      <td>0.428169</td>\n",
       "      <td>0.157746</td>\n",
       "      <td>0.414084</td>\n",
       "      <td>XXCCCCSSSCCCHHHHHHHTSCGGGSEECSSCCCTTCCCHHHHHHH...</td>\n",
       "      <td>XXCCCCCCCCCCHHHHHHHCCCHHHCEECCCCCCCCCCCHHHHHHH...</td>\n",
       "      <td>alpha+beta</td>\n",
       "      <td>[MA, AL, LF, FN, NT, TA, AH, HG, GG, GN, NI, I...</td>\n",
       "      <td>[-0.15778549242323425, -0.22345690293745563, -...</td>\n",
       "    </tr>\n",
       "    <tr>\n",
       "      <th>3</th>\n",
       "      <td>1LFP.A</td>\n",
       "      <td>MAGHSHWAQIKHKKAKVDAQRGKLFSKLIREIIVATRLGGPNPEFN...</td>\n",
       "      <td>0.427984</td>\n",
       "      <td>0.234568</td>\n",
       "      <td>0.337449</td>\n",
       "      <td>XXXXCCSCCSSSSSSCTTTSHHHHHHHHHHHHHHHHHHHCSCGGGC...</td>\n",
       "      <td>XXXXCCCCCCCCCCCCCCCCHHHHHHHHHHHHHHHHHHHCCCHHHC...</td>\n",
       "      <td>alpha+beta</td>\n",
       "      <td>[MA, AG, GH, HS, SH, HW, WA, AQ, QI, IK, KH, H...</td>\n",
       "      <td>[-0.1296106138221559, -0.26989139161343056, 0....</td>\n",
       "    </tr>\n",
       "    <tr>\n",
       "      <th>4</th>\n",
       "      <td>1LFW.A</td>\n",
       "      <td>MDLNFKELAEAKKDAILKDLEELIAIDSSEDLENATEEYPVGKGPV...</td>\n",
       "      <td>0.322650</td>\n",
       "      <td>0.273504</td>\n",
       "      <td>0.403846</td>\n",
       "      <td>CCCCHHHHHHTTHHHHHHHHHHHHTSCCBCCGGGCCSSSTTCHHHH...</td>\n",
       "      <td>CCCCHHHHHHCCHHHHHHHHHHHHCCCCECCHHHCCCCCCCCHHHH...</td>\n",
       "      <td>alpha+beta</td>\n",
       "      <td>[MD, DL, LN, NF, FK, KE, EL, LA, AE, EA, AK, K...</td>\n",
       "      <td>[-0.20264662569885186, -0.24491193602834618, 0...</td>\n",
       "    </tr>\n",
       "  </tbody>\n",
       "</table>\n",
       "</div>"
      ],
      "text/plain": [
       "  structureChainId                                           sequence  \\\n",
       "0           1LBU.A  DGCYTWSGTLSEGSSGEAVRQLQIRVAGYPGTGAQLAIDGQFGPAT...   \n",
       "1           1LC0.A  MITNSGKFGVVVVGVGRAGSVRLRDLKDPRSAAFLNLIGFVSRREL...   \n",
       "2           1LC5.A  MALFNTAHGGNIREPATVLGISPDQLLDFSANINPLGMPVSVKRAL...   \n",
       "3           1LFP.A  MAGHSHWAQIKHKKAKVDAQRGKLFSKLIREIIVATRLGGPNPEFN...   \n",
       "4           1LFW.A  MDLNFKELAEAKKDAILKDLEELIAIDSSEDLENATEEYPVGKGPV...   \n",
       "\n",
       "      alpha      beta      coil  \\\n",
       "0  0.361502  0.107981  0.530516   \n",
       "1  0.410345  0.275862  0.313793   \n",
       "2  0.428169  0.157746  0.414084   \n",
       "3  0.427984  0.234568  0.337449   \n",
       "4  0.322650  0.273504  0.403846   \n",
       "\n",
       "                                          dsspQ8Code  \\\n",
       "0  CCSCCCCSCBCTTCBSHHHHHHHHHTTTCSCTTCCCCCSSBCCHHH...   \n",
       "1  CCCCCCSEEEEEECCSHHHHHHHHHHTSHHHHTTEEEEEEECSSCC...   \n",
       "2  XXCCCCSSSCCCHHHHHHHTSCGGGSEECSSCCCTTCCCHHHHHHH...   \n",
       "3  XXXXCCSCCSSSSSSCTTTSHHHHHHHHHHHHHHHHHHHCSCGGGC...   \n",
       "4  CCCCHHHHHHTTHHHHHHHHHHHHTSCCBCCGGGCCSSSTTCHHHH...   \n",
       "\n",
       "                                          dsspQ3Code    foldType  \\\n",
       "0  CCCCCCCCCECCCCECHHHHHHHHHCCCCCCCCCCCCCCCECCHHH...  alpha+beta   \n",
       "1  CCCCCCCEEEEEECCCHHHHHHHHHHCCHHHHCCEEEEEEECCCCC...  alpha+beta   \n",
       "2  XXCCCCCCCCCCHHHHHHHCCCHHHCEECCCCCCCCCCCHHHHHHH...  alpha+beta   \n",
       "3  XXXXCCCCCCCCCCCCCCCCHHHHHHHHHHHHHHHHHHHCCCHHHC...  alpha+beta   \n",
       "4  CCCCHHHHHHCCHHHHHHHHHHHHCCCCECCHHHCCCCCCCCHHHH...  alpha+beta   \n",
       "\n",
       "                                               ngram  \\\n",
       "0  [DG, GC, CY, YT, TW, WS, SG, GT, TL, LS, SE, E...   \n",
       "1  [MI, IT, TN, NS, SG, GK, KF, FG, GV, VV, VV, V...   \n",
       "2  [MA, AL, LF, FN, NT, TA, AH, HG, GG, GN, NI, I...   \n",
       "3  [MA, AG, GH, HS, SH, HW, WA, AQ, QI, IK, KH, H...   \n",
       "4  [MD, DL, LN, NF, FK, KE, EL, LA, AE, EA, AK, K...   \n",
       "\n",
       "                                            features  \n",
       "0  [0.004772469902165093, -0.26769595273401375, 0...  \n",
       "1  [-0.07511192831010542, -0.3225324001646388, -0...  \n",
       "2  [-0.15778549242323425, -0.22345690293745563, -...  \n",
       "3  [-0.1296106138221559, -0.26989139161343056, 0....  \n",
       "4  [-0.20264662569885186, -0.24491193602834618, 0...  "
      ]
     },
     "execution_count": 7,
     "metadata": {},
     "output_type": "execute_result"
    }
   ],
   "source": [
    "encoder = ProteinSequenceEncoder(data)\n",
    "data = encoder.overlapping_ngram_word2vec_encode(n=2, windowSize=25, vectorSize=50).cache()\n",
    "\n",
    "data.toPandas().head(5)"
   ]
  },
  {
   "cell_type": "markdown",
   "metadata": {},
   "source": [
    "## Keep only a subset of relevant fields for further processing"
   ]
  },
  {
   "cell_type": "code",
   "execution_count": 8,
   "metadata": {},
   "outputs": [],
   "source": [
    "data = data.select(['structureChainId','alpha','beta','coil','foldType','features'])"
   ]
  },
  {
   "cell_type": "markdown",
   "metadata": {},
   "source": [
    "## Select only alpha and beta foldType to parquet file"
   ]
  },
  {
   "cell_type": "code",
   "execution_count": 9,
   "metadata": {},
   "outputs": [
    {
     "name": "stdout",
     "output_type": "stream",
     "text": [
      "Total number of data: 2398\n"
     ]
    },
    {
     "data": {
      "text/html": [
       "<div>\n",
       "<style scoped>\n",
       "    .dataframe tbody tr th:only-of-type {\n",
       "        vertical-align: middle;\n",
       "    }\n",
       "\n",
       "    .dataframe tbody tr th {\n",
       "        vertical-align: top;\n",
       "    }\n",
       "\n",
       "    .dataframe thead th {\n",
       "        text-align: right;\n",
       "    }\n",
       "</style>\n",
       "<table border=\"1\" class=\"dataframe\">\n",
       "  <thead>\n",
       "    <tr style=\"text-align: right;\">\n",
       "      <th></th>\n",
       "      <th>structureChainId</th>\n",
       "      <th>alpha</th>\n",
       "      <th>beta</th>\n",
       "      <th>coil</th>\n",
       "      <th>foldType</th>\n",
       "      <th>features</th>\n",
       "    </tr>\n",
       "  </thead>\n",
       "  <tbody>\n",
       "    <tr>\n",
       "      <th>0</th>\n",
       "      <td>1LGH.G</td>\n",
       "      <td>0.857143</td>\n",
       "      <td>0.000000</td>\n",
       "      <td>0.142857</td>\n",
       "      <td>alpha</td>\n",
       "      <td>[-0.1801832006736235, -0.1530499759045514, 0.0...</td>\n",
       "    </tr>\n",
       "    <tr>\n",
       "      <th>1</th>\n",
       "      <td>1LGH.H</td>\n",
       "      <td>0.860465</td>\n",
       "      <td>0.000000</td>\n",
       "      <td>0.139535</td>\n",
       "      <td>alpha</td>\n",
       "      <td>[-0.13151330687105656, -0.35479396708648314, -...</td>\n",
       "    </tr>\n",
       "    <tr>\n",
       "      <th>2</th>\n",
       "      <td>1LKI.A</td>\n",
       "      <td>0.674419</td>\n",
       "      <td>0.023256</td>\n",
       "      <td>0.302326</td>\n",
       "      <td>alpha</td>\n",
       "      <td>[-0.06014170982567958, -0.06312079258346358, 0...</td>\n",
       "    </tr>\n",
       "    <tr>\n",
       "      <th>3</th>\n",
       "      <td>1LMI.A</td>\n",
       "      <td>0.022901</td>\n",
       "      <td>0.511450</td>\n",
       "      <td>0.465649</td>\n",
       "      <td>beta</td>\n",
       "      <td>[-0.016958576053954087, -0.2168502055681669, 0...</td>\n",
       "    </tr>\n",
       "    <tr>\n",
       "      <th>4</th>\n",
       "      <td>1M0K.A</td>\n",
       "      <td>0.765766</td>\n",
       "      <td>0.045045</td>\n",
       "      <td>0.189189</td>\n",
       "      <td>alpha</td>\n",
       "      <td>[-0.15340718354358984, -0.3088978866750367, 0....</td>\n",
       "    </tr>\n",
       "  </tbody>\n",
       "</table>\n",
       "</div>"
      ],
      "text/plain": [
       "  structureChainId     alpha      beta      coil foldType  \\\n",
       "0           1LGH.G  0.857143  0.000000  0.142857    alpha   \n",
       "1           1LGH.H  0.860465  0.000000  0.139535    alpha   \n",
       "2           1LKI.A  0.674419  0.023256  0.302326    alpha   \n",
       "3           1LMI.A  0.022901  0.511450  0.465649     beta   \n",
       "4           1M0K.A  0.765766  0.045045  0.189189    alpha   \n",
       "\n",
       "                                            features  \n",
       "0  [-0.1801832006736235, -0.1530499759045514, 0.0...  \n",
       "1  [-0.13151330687105656, -0.35479396708648314, -...  \n",
       "2  [-0.06014170982567958, -0.06312079258346358, 0...  \n",
       "3  [-0.016958576053954087, -0.2168502055681669, 0...  \n",
       "4  [-0.15340718354358984, -0.3088978866750367, 0....  "
      ]
     },
     "execution_count": 9,
     "metadata": {},
     "output_type": "execute_result"
    }
   ],
   "source": [
    "data = data.where((data.foldType == 'alpha') | (data.foldType == 'beta')) #| (data.foldType == 'other'))\n",
    "\n",
    "print(f\"Total number of data: {data.count()}\")\n",
    "data.toPandas().head()"
   ]
  },
  {
   "cell_type": "markdown",
   "metadata": {},
   "source": [
    "## Basic dataset information and setting"
   ]
  },
  {
   "cell_type": "code",
   "execution_count": 10,
   "metadata": {},
   "outputs": [
    {
     "name": "stdout",
     "output_type": "stream",
     "text": [
      "Feature count    : 50\n",
      "Class count    : 2\n",
      "Dataset size (unbalanced)    : 2398\n",
      "+--------+-----+\n",
      "|foldType|count|\n",
      "+--------+-----+\n",
      "|    beta|  693|\n",
      "|   alpha| 1705|\n",
      "+--------+-----+\n",
      "\n",
      "Dataset size (balanced)  : 1397\n",
      "+--------+-----+\n",
      "|foldType|count|\n",
      "+--------+-----+\n",
      "|    beta|  693|\n",
      "|   alpha|  704|\n",
      "+--------+-----+\n",
      "\n"
     ]
    }
   ],
   "source": [
    "label = 'foldType'\n",
    "testFraction = 0.1\n",
    "seed = 123\n",
    "\n",
    "vector = data.first()[\"features\"]\n",
    "featureCount = len(vector)\n",
    "print(f\"Feature count    : {featureCount}\")\n",
    "    \n",
    "classCount = int(data.select(label).distinct().count())\n",
    "print(f\"Class count    : {classCount}\")\n",
    "\n",
    "print(f\"Dataset size (unbalanced)    : {data.count()}\")\n",
    "    \n",
    "data.groupby(label).count().show(classCount)\n",
    "data = datasetBalancer.downsample(data, label, 1)\n",
    "print(f\"Dataset size (balanced)  : {data.count()}\")\n",
    "    \n",
    "data.groupby(label).count().show(classCount)"
   ]
  },
  {
   "cell_type": "markdown",
   "metadata": {},
   "source": [
    "## Decision Tree Classifier"
   ]
  },
  {
   "cell_type": "code",
   "execution_count": 11,
   "metadata": {},
   "outputs": [
    {
     "name": "stdout",
     "output_type": "stream",
     "text": [
      "\n",
      " Class\tTrain\tTest\n",
      "alpha\t638\t66\n",
      "beta\t620\t73\n",
      "\n",
      "Sample predictions: DecisionTreeClassifier\n",
      "+----------------+-----------+-----------+-----------+--------+--------------------+------------+-------------+--------------------+----------+--------------+\n",
      "|structureChainId|      alpha|       beta|       coil|foldType|            features|indexedLabel|rawPrediction|         probability|prediction|predictedLabel|\n",
      "+----------------+-----------+-----------+-----------+--------+--------------------+------------+-------------+--------------------+----------+--------------+\n",
      "|          4GXB.B|        0.0| 0.53333336| 0.46666667|    beta|[-0.0819993153214...|         1.0|  [3.0,183.0]|[0.01612903225806...|       1.0|          beta|\n",
      "|          3WG3.B|0.025806451|  0.5225806|  0.4516129|    beta|[-0.0410713091661...|         1.0|  [3.0,183.0]|[0.01612903225806...|       1.0|          beta|\n",
      "|          3D33.A|0.031914894|  0.5851064| 0.38297874|    beta|[-0.1077686789680...|         1.0|    [7.0,6.0]|[0.53846153846153...|       0.0|         alpha|\n",
      "|          3KLQ.B|        0.0|        0.5|        0.5|    beta|[-0.0611651358593...|         1.0|  [3.0,183.0]|[0.01612903225806...|       1.0|          beta|\n",
      "|          4CJ0.B|        0.0| 0.46666667| 0.53333336|    beta|[-0.0390482877613...|         1.0|   [1.0,26.0]|[0.03703703703703...|       1.0|          beta|\n",
      "|          2O62.A|0.044609666| 0.59107804| 0.36431226|    beta|[-0.1408797449269...|         1.0|  [36.0,27.0]|[0.57142857142857...|       0.0|         alpha|\n",
      "|          3UMH.A|  0.9111111|        0.0| 0.08888889|   alpha|[-0.1710323759132...|         0.0| [331.0,15.0]|[0.95664739884393...|       0.0|         alpha|\n",
      "|          2V66.D|   0.963964|        0.0|0.036036037|   alpha|[-0.1965357810089...|         0.0| [331.0,15.0]|[0.95664739884393...|       0.0|         alpha|\n",
      "|          3NDQ.A| 0.68041235|        0.0| 0.31958762|   alpha|[-0.1713363209338...|         0.0|  [36.0,27.0]|[0.57142857142857...|       0.0|         alpha|\n",
      "|          2V8C.C|  0.7692308|        0.0| 0.23076923|   alpha|[-0.2074562499397...|         0.0|   [6.0,44.0]|         [0.12,0.88]|       1.0|          beta|\n",
      "|          3FMY.A|  0.6515151|        0.0| 0.34848484|   alpha|[-0.0371115714466...|         0.0| [331.0,15.0]|[0.95664739884393...|       0.0|         alpha|\n",
      "|          3KZ3.B|     0.7125|        0.0|     0.2875|   alpha|[-0.1302975708076...|         0.0| [331.0,15.0]|[0.95664739884393...|       0.0|         alpha|\n",
      "|          2IJQ.B| 0.69491524|0.042372882| 0.26271185|   alpha|[-0.1748871093848...|         0.0| [27.0,187.0]|[0.12616822429906...|       1.0|          beta|\n",
      "|          3R72.A|  0.6639344|0.032786883| 0.30327868|   alpha|[-0.0937719000888...|         0.0|    [4.0,6.0]|           [0.4,0.6]|       1.0|          beta|\n",
      "+----------------+-----------+-----------+-----------+--------+--------------------+------------+-------------+--------------------+----------+--------------+\n",
      "\n",
      "Total time taken: 18.385154962539673\n",
      "Method\tDecisionTreeClassifier\n",
      "AUC\t0.7775010377750103\n",
      "F\t0.7771170476206447\n",
      "Accuracy\t0.7769784172661871\n",
      "Precision\t0.777979355645918\n",
      "Recall\t0.7769784172661871\n",
      "False Positive Rate\t0.22197634171616626\n",
      "True Positive Rate\t0.7769784172661871\n",
      "\t\n",
      "Confusion Matrix\n",
      "['alpha', 'beta']\n",
      "DenseMatrix([[52., 14.],\n",
      "             [17., 56.]])\n"
     ]
    }
   ],
   "source": [
    "dtc = DecisionTreeClassifier()\n",
    "mcc = SparkMultiClassClassifier(dtc, label, testFraction, seed)\n",
    "matrics = mcc.fit(data)\n",
    "for k,v in matrics.items(): print(f\"{k}\\t{v}\")"
   ]
  },
  {
   "cell_type": "markdown",
   "metadata": {},
   "source": [
    "## Random Forest Classifier"
   ]
  },
  {
   "cell_type": "code",
   "execution_count": 12,
   "metadata": {},
   "outputs": [
    {
     "name": "stdout",
     "output_type": "stream",
     "text": [
      "\n",
      " Class\tTrain\tTest\n",
      "alpha\t638\t66\n",
      "beta\t620\t73\n",
      "\n",
      "Sample predictions: RandomForestClassifier\n",
      "+----------------+-----------+-----------+-----------+--------+--------------------+------------+--------------------+--------------------+----------+--------------+\n",
      "|structureChainId|      alpha|       beta|       coil|foldType|            features|indexedLabel|       rawPrediction|         probability|prediction|predictedLabel|\n",
      "+----------------+-----------+-----------+-----------+--------+--------------------+------------+--------------------+--------------------+----------+--------------+\n",
      "|          4GXB.B|        0.0| 0.53333336| 0.46666667|    beta|[-0.0819993153214...|         1.0|[3.70021402930451...|[0.18501070146522...|       1.0|          beta|\n",
      "|          3WG3.B|0.025806451|  0.5225806|  0.4516129|    beta|[-0.0410713091661...|         1.0|[2.4603671877253,...|[0.12301835938626...|       1.0|          beta|\n",
      "|          3D33.A|0.031914894|  0.5851064| 0.38297874|    beta|[-0.1077686789680...|         1.0|[4.67677445978848...|[0.23383872298942...|       1.0|          beta|\n",
      "|          3KLQ.B|        0.0|        0.5|        0.5|    beta|[-0.0611651358593...|         1.0|[2.74039310258562...|[0.13701965512928...|       1.0|          beta|\n",
      "|          4CJ0.B|        0.0| 0.46666667| 0.53333336|    beta|[-0.0390482877613...|         1.0|[5.72944218188171...|[0.28647210909408...|       1.0|          beta|\n",
      "|          2O62.A|0.044609666| 0.59107804| 0.36431226|    beta|[-0.1408797449269...|         1.0|[14.1192942055338...|[0.70596471027669...|       0.0|         alpha|\n",
      "|          3UMH.A|  0.9111111|        0.0| 0.08888889|   alpha|[-0.1710323759132...|         0.0|[18.6421994525163...|[0.93210997262581...|       0.0|         alpha|\n",
      "|          2V66.D|   0.963964|        0.0|0.036036037|   alpha|[-0.1965357810089...|         0.0|[16.1119379908655...|[0.80559689954327...|       0.0|         alpha|\n",
      "|          3NDQ.A| 0.68041235|        0.0| 0.31958762|   alpha|[-0.1713363209338...|         0.0|[15.9720425272003...|[0.79860212636001...|       0.0|         alpha|\n",
      "|          2V8C.C|  0.7692308|        0.0| 0.23076923|   alpha|[-0.2074562499397...|         0.0|[7.29414535216539...|[0.36470726760826...|       1.0|          beta|\n",
      "|          3FMY.A|  0.6515151|        0.0| 0.34848484|   alpha|[-0.0371115714466...|         0.0|[18.4381720869282...|[0.92190860434641...|       0.0|         alpha|\n",
      "|          3KZ3.B|     0.7125|        0.0|     0.2875|   alpha|[-0.1302975708076...|         0.0|[18.7599002593789...|[0.93799501296894...|       0.0|         alpha|\n",
      "|          2IJQ.B| 0.69491524|0.042372882| 0.26271185|   alpha|[-0.1748871093848...|         0.0|[2.64334840542770...|[0.13216742027138...|       1.0|          beta|\n",
      "|          3R72.A|  0.6639344|0.032786883| 0.30327868|   alpha|[-0.0937719000888...|         0.0|[11.7912837787465...|[0.58956418893732...|       0.0|         alpha|\n",
      "+----------------+-----------+-----------+-----------+--------+--------------------+------------+--------------------+--------------------+----------+--------------+\n",
      "\n",
      "Total time taken: 15.629568099975586\n",
      "Method\tRandomForestClassifier\n",
      "AUC\t0.8488999584889995\n",
      "F\t0.8489678674483281\n",
      "Accuracy\t0.8489208633093526\n",
      "Precision\t0.8491028073063938\n",
      "Recall\t0.8489208633093526\n",
      "False Positive Rate\t0.15112094633135334\n",
      "True Positive Rate\t0.8489208633093526\n",
      "\t\n",
      "Confusion Matrix\n",
      "['alpha', 'beta']\n",
      "DenseMatrix([[56., 10.],\n",
      "             [11., 62.]])\n"
     ]
    }
   ],
   "source": [
    "rfc = RandomForestClassifier()\n",
    "mcc = SparkMultiClassClassifier(rfc, label, testFraction, seed)\n",
    "matrics = mcc.fit(data)\n",
    "for k,v in matrics.items(): print(f\"{k}\\t{v}\")"
   ]
  },
  {
   "cell_type": "markdown",
   "metadata": {},
   "source": [
    "## Logistic Regression Classifier"
   ]
  },
  {
   "cell_type": "code",
   "execution_count": 13,
   "metadata": {},
   "outputs": [
    {
     "name": "stdout",
     "output_type": "stream",
     "text": [
      "\n",
      " Class\tTrain\tTest\n",
      "alpha\t638\t66\n",
      "beta\t620\t73\n",
      "\n",
      "Sample predictions: LogisticRegression\n",
      "+----------------+-----------+-----------+-----------+--------+--------------------+------------+--------------------+--------------------+----------+--------------+\n",
      "|structureChainId|      alpha|       beta|       coil|foldType|            features|indexedLabel|       rawPrediction|         probability|prediction|predictedLabel|\n",
      "+----------------+-----------+-----------+-----------+--------+--------------------+------------+--------------------+--------------------+----------+--------------+\n",
      "|          4GXB.B|        0.0| 0.53333336| 0.46666667|    beta|[-0.0819993153214...|         1.0|[-3.3034225218434...|[0.03545396309729...|       1.0|          beta|\n",
      "|          3WG3.B|0.025806451|  0.5225806|  0.4516129|    beta|[-0.0410713091661...|         1.0|[-0.9278849415037...|[0.28335401096387...|       1.0|          beta|\n",
      "|          3D33.A|0.031914894|  0.5851064| 0.38297874|    beta|[-0.1077686789680...|         1.0|[-1.9293508276685...|[0.12682245108965...|       1.0|          beta|\n",
      "|          3KLQ.B|        0.0|        0.5|        0.5|    beta|[-0.0611651358593...|         1.0|[-2.7472923133191...|[0.06023975242323...|       1.0|          beta|\n",
      "|          4CJ0.B|        0.0| 0.46666667| 0.53333336|    beta|[-0.0390482877613...|         1.0|[-4.0210228061626...|[0.01761862865613...|       1.0|          beta|\n",
      "|          2O62.A|0.044609666| 0.59107804| 0.36431226|    beta|[-0.1408797449269...|         1.0|[-0.3973685936332...|[0.40194472740170...|       1.0|          beta|\n",
      "|          3UMH.A|  0.9111111|        0.0| 0.08888889|   alpha|[-0.1710323759132...|         0.0|[5.25496006668822...|[0.99480556820847...|       0.0|         alpha|\n",
      "|          2V66.D|   0.963964|        0.0|0.036036037|   alpha|[-0.1965357810089...|         0.0|[4.37022131629027...|[0.98750954384495...|       0.0|         alpha|\n",
      "|          3NDQ.A| 0.68041235|        0.0| 0.31958762|   alpha|[-0.1713363209338...|         0.0|[2.33966596126834...|[0.91210931033576...|       0.0|         alpha|\n",
      "|          2V8C.C|  0.7692308|        0.0| 0.23076923|   alpha|[-0.2074562499397...|         0.0|[-18.380407968572...|[1.04109470963264...|       1.0|          beta|\n",
      "|          3FMY.A|  0.6515151|        0.0| 0.34848484|   alpha|[-0.0371115714466...|         0.0|[2.00610814594656...|[0.88143690391949...|       0.0|         alpha|\n",
      "|          3KZ3.B|     0.7125|        0.0|     0.2875|   alpha|[-0.1302975708076...|         0.0|[7.39722643549941...|[0.99938742501477...|       0.0|         alpha|\n",
      "|          2IJQ.B| 0.69491524|0.042372882| 0.26271185|   alpha|[-0.1748871093848...|         0.0|[-1.6326867579307...|[0.16346263467857...|       1.0|          beta|\n",
      "|          3R72.A|  0.6639344|0.032786883| 0.30327868|   alpha|[-0.0937719000888...|         0.0|[0.43973356894869...|[0.60819554372952...|       0.0|         alpha|\n",
      "+----------------+-----------+-----------+-----------+--------+--------------------+------------+--------------------+--------------------+----------+--------------+\n",
      "\n",
      "Total time taken: 44.715583086013794\n",
      "Method\tLogisticRegression\n",
      "AUC\t0.8542963885429639\n",
      "F\t0.8557853717026378\n",
      "Accuracy\t0.8561151079136691\n",
      "Precision\t0.8568866733173996\n",
      "Recall\t0.8561151079136691\n",
      "False Positive Rate\t0.1475223308277413\n",
      "True Positive Rate\t0.8561151079136691\n",
      "\t\n",
      "Confusion Matrix\n",
      "['alpha', 'beta']\n",
      "DenseMatrix([[54., 12.],\n",
      "             [ 8., 65.]])\n"
     ]
    }
   ],
   "source": [
    "lr = LogisticRegression()\n",
    "mcc = SparkMultiClassClassifier(lr, label, testFraction, seed)\n",
    "matrics = mcc.fit(data)\n",
    "for k,v in matrics.items(): print(f\"{k}\\t{v}\")"
   ]
  },
  {
   "cell_type": "markdown",
   "metadata": {},
   "source": [
    "## Simple Multilayer Perception Classifier"
   ]
  },
  {
   "cell_type": "code",
   "execution_count": 14,
   "metadata": {},
   "outputs": [
    {
     "name": "stdout",
     "output_type": "stream",
     "text": [
      "\n",
      " Class\tTrain\tTest\n",
      "alpha\t638\t66\n",
      "beta\t620\t73\n",
      "\n",
      "Sample predictions: MultilayerPerceptronClassifier\n",
      "+----------------+-----------+-----------+-----------+--------+--------------------+------------+--------------------+--------------------+----------+--------------+\n",
      "|structureChainId|      alpha|       beta|       coil|foldType|            features|indexedLabel|       rawPrediction|         probability|prediction|predictedLabel|\n",
      "+----------------+-----------+-----------+-----------+--------+--------------------+------------+--------------------+--------------------+----------+--------------+\n",
      "|          4GXB.B|        0.0| 0.53333336| 0.46666667|    beta|[-0.0819993153214...|         1.0|[-1.6416983478329...|[0.14315186039957...|       1.0|          beta|\n",
      "|          3WG3.B|0.025806451|  0.5225806|  0.4516129|    beta|[-0.0410713091661...|         1.0|[-2.7802598864981...|[0.01528569041399...|       1.0|          beta|\n",
      "|          3D33.A|0.031914894|  0.5851064| 0.38297874|    beta|[-0.1077686789680...|         1.0|[-2.2289549929876...|[0.04417951240200...|       1.0|          beta|\n",
      "|          3KLQ.B|        0.0|        0.5|        0.5|    beta|[-0.0611651358593...|         1.0|[-2.6792001947557...|[0.01724325911584...|       1.0|          beta|\n",
      "|          4CJ0.B|        0.0| 0.46666667| 0.53333336|    beta|[-0.0390482877613...|         1.0|[-3.1123193094756...|[0.00763138395622...|       1.0|          beta|\n",
      "|          2O62.A|0.044609666| 0.59107804| 0.36431226|    beta|[-0.1408797449269...|         1.0|[0.19155651355804...|[0.84276315197271...|       0.0|         alpha|\n",
      "|          3UMH.A|  0.9111111|        0.0| 0.08888889|   alpha|[-0.1710323759132...|         0.0|[1.05564345961130...|[0.96704366516891...|       0.0|         alpha|\n",
      "|          2V66.D|   0.963964|        0.0|0.036036037|   alpha|[-0.1965357810089...|         0.0|[1.07118079010755...|[0.96735321449840...|       0.0|         alpha|\n",
      "|          3NDQ.A| 0.68041235|        0.0| 0.31958762|   alpha|[-0.1713363209338...|         0.0|[0.95075419856907...|[0.96145772237526...|       0.0|         alpha|\n",
      "|          2V8C.C|  0.7692308|        0.0| 0.23076923|   alpha|[-0.2074562499397...|         0.0|[-2.9929805064645...|[0.00860893174886...|       1.0|          beta|\n",
      "|          3FMY.A|  0.6515151|        0.0| 0.34848484|   alpha|[-0.0371115714466...|         0.0|[1.32678090140494...|[0.98195313556719...|       0.0|         alpha|\n",
      "|          3KZ3.B|     0.7125|        0.0|     0.2875|   alpha|[-0.1302975708076...|         0.0|[2.46995398083695...|[0.99809755175936...|       0.0|         alpha|\n",
      "|          2IJQ.B| 0.69491524|0.042372882| 0.26271185|   alpha|[-0.1748871093848...|         0.0|[-1.8357545426702...|[0.08856772051166...|       1.0|          beta|\n",
      "|          3R72.A|  0.6639344|0.032786883| 0.30327868|   alpha|[-0.0937719000888...|         0.0|[0.02182368951239...|[0.79920318693112...|       0.0|         alpha|\n",
      "+----------------+-----------+-----------+-----------+--------+--------------------+------------+--------------------+--------------------+----------+--------------+\n",
      "\n",
      "Total time taken: 56.38264179229736\n",
      "Method\tMultilayerPerceptronClassifier\n",
      "AUC\t0.8481735159817351\n",
      "F\t0.8488580999976465\n",
      "Accuracy\t0.8489208633093526\n",
      "Precision\t0.8488834711856295\n",
      "Recall\t0.8489208633093526\n",
      "False Positive Rate\t0.1525738313458822\n",
      "True Positive Rate\t0.8489208633093526\n",
      "\t\n",
      "Confusion Matrix\n",
      "['alpha', 'beta']\n",
      "DenseMatrix([[55., 11.],\n",
      "             [10., 63.]])\n"
     ]
    }
   ],
   "source": [
    "layers = [featureCount, 64, 64, classCount]\n",
    "mpc = MultilayerPerceptronClassifier().setLayers(layers) \\\n",
    "                                          .setBlockSize(128) \\\n",
    "                                          .setSeed(1234) \\\n",
    "                                          .setMaxIter(100)\n",
    "mcc = SparkMultiClassClassifier(mpc, label, testFraction, seed)\n",
    "matrics = mcc.fit(data)\n",
    "for k,v in matrics.items(): print(f\"{k}\\t{v}\")"
   ]
  },
  {
   "cell_type": "markdown",
   "metadata": {},
   "source": [
    "## Terminate Spark"
   ]
  },
  {
   "cell_type": "code",
   "execution_count": 17,
   "metadata": {},
   "outputs": [],
   "source": [
    "spark.stop()"
   ]
  }
 ],
 "metadata": {
  "kernelspec": {
   "display_name": "Python 3",
   "language": "python",
   "name": "python3"
  },
  "language_info": {
   "codemirror_mode": {
    "name": "ipython",
    "version": 3
   },
   "file_extension": ".py",
   "mimetype": "text/x-python",
   "name": "python",
   "nbconvert_exporter": "python",
   "pygments_lexer": "ipython3",
   "version": "3.6.4"
  }
 },
 "nbformat": 4,
 "nbformat_minor": 2
}
